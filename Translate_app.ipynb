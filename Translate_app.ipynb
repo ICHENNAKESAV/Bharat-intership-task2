{
  "nbformat": 4,
  "nbformat_minor": 0,
  "metadata": {
    "colab": {
      "provenance": []
    },
    "kernelspec": {
      "name": "python3",
      "display_name": "Python 3"
    },
    "language_info": {
      "name": "python"
    }
  },
  "cells": [
    {
      "cell_type": "code",
      "execution_count": null,
      "metadata": {
        "id": "7ydoSF4XgWV0"
      },
      "outputs": [],
      "source": [
        "pip install googletrans==4.0.0-rc1"
      ]
    },
    {
      "cell_type": "code",
      "source": [
        "pip install indic-transliteration\n"
      ],
      "metadata": {
        "id": "bwYHYfuSgX3e"
      },
      "execution_count": null,
      "outputs": []
    },
    {
      "cell_type": "code",
      "source": [
        "from googletrans import Translator"
      ],
      "metadata": {
        "id": "OeW07eU-ghYZ"
      },
      "execution_count": 3,
      "outputs": []
    },
    {
      "cell_type": "code",
      "source": [
        "from indic_transliteration import sanscript"
      ],
      "metadata": {
        "id": "C15ZgwObgmAE"
      },
      "execution_count": 4,
      "outputs": []
    },
    {
      "cell_type": "code",
      "source": [
        "def translate(text, input_lang_code, target_lang_code):\n",
        "    translator = Translator()\n",
        "    try:\n",
        "        translated = translator.translate(text, src=input_lang_code, dest=target_lang_code)\n",
        "        return translated.text\n",
        "    except Exception as e:\n",
        "        print(f\"Translation failed: {str(e)}\")\n",
        "        return None"
      ],
      "metadata": {
        "id": "E3Acpz2fgp3I"
      },
      "execution_count": 6,
      "outputs": []
    },
    {
      "cell_type": "code",
      "source": [
        "def main():\n",
        "    print(\"AI Language Translator App\")\n",
        "    print(\"\\n\\nSupported languages:\")\n",
        "    print(\"1. English\")\n",
        "    print(\"2. Hindi\")\n",
        "    print(\"3. Marathi\")\n",
        "\n",
        "    input_lang = int(input(\"\\n\\nSelect the input language (1 to 3): \"))\n",
        "    target_lang = int(input(\"\\n\\nSelect the target language (1 to 3): \"))\n",
        "\n",
        "    if input_lang == 1:\n",
        "        input_lang_code = 'en'\n",
        "    elif input_lang == 2:\n",
        "        input_lang_code = 'hi'\n",
        "    elif input_lang == 3:\n",
        "        input_lang_code = 'mr'\n",
        "    else:\n",
        "        print(\"\\n\\nInvalid input language selection.\")\n",
        "        return\n",
        "\n",
        "    if target_lang == 1:\n",
        "        target_lang_code = 'en'\n",
        "    elif target_lang == 2:\n",
        "        target_lang_code = 'hi'\n",
        "    elif target_lang == 3:\n",
        "        target_lang_code = 'mr'\n",
        "    else:\n",
        "        print(\"\\n\\nInvalid target language selection.\")\n",
        "        return\n",
        "\n",
        "    text = input(\"\\n\\nEnter the text you want to translate: \")\n",
        "\n",
        "    translated_text = translate(text, input_lang_code, target_lang_code)\n",
        "    print(\"\\n\\nTranslated Text:\")\n",
        "    print(translated_text)"
      ],
      "metadata": {
        "id": "r0hZOKitgurh"
      },
      "execution_count": 7,
      "outputs": []
    },
    {
      "cell_type": "code",
      "source": [
        "main()"
      ],
      "metadata": {
        "colab": {
          "base_uri": "https://localhost:8080/"
        },
        "id": "54ujh5xfg6-G",
        "outputId": "89fcbd98-5fd5-4592-b38a-76c6310e94c0"
      },
      "execution_count": 8,
      "outputs": [
        {
          "output_type": "stream",
          "name": "stdout",
          "text": [
            "AI Language Translator App\n",
            "\n",
            "\n",
            "Supported languages:\n",
            "1. English\n",
            "2. Hindi\n",
            "3. Marathi\n",
            "\n",
            "\n",
            "Select the input language (1 to 3): 1\n",
            "\n",
            "\n",
            "Select the target language (1 to 3): 2\n",
            "\n",
            "\n",
            "Enter the text you want to translate: Enter the text you want to translate: Artificial Intelligence (AI) has become a buzzword in recent years, with rapid  advancements in technology. Its impact on various industries has been  unprecedented. AI has the potential to revolutionize the way we live and work.  From self-driving cars to virtual assistants, the applications of AI are vast and  wide-ranging. However, there are also concerns and skeptisisms surrounding its  widespread adoption. Some people worry about job losses as AI and robots take  over human tasks, while others are concerned about the ethical implications of  AI, especially in areas like privacy and data security. The potential of AI in healthcare is enormous. AI applications, such as  diagnostics and image recognition, can help doctors make more accurate  decisions and improve patient outcomes. AI can analyze large amounts of  medical data to identify trends and patterns that humans might miss. This can  lead to earlier detection of diseases and more effective treatments. However,  there are challenges in implementing AI in the medical field. Issues like data  privacy, regulatory compliance, and getting physicians to trust AI algorithms are  some of the hurdles that need to be addressed. In the educational sphere, AI has the potential to transform the way students  learn and interact with information. Smart classrooms equipped with AIpowered edutech can adapt to individual learning styles, providing customized  lessons and practices. AI chatbots and tutorial systems offer real-time assistance  to students, and grading papers can be simplified with automated evaluation.  With AI, the process of research and data collection can be accelerated, making  it easier for scholars to access information. Nonetheless, integrating AI in  education requires significant investment in infrastructure and teacher training.  Addressing issues of accessibility and equity will be crucial to ensure all students  benefit from AI advancements\n",
            "\n",
            "\n",
            "Translated Text:\n",
            "उस पाठ को दर्ज करें जिसे आप अनुवाद करना चाहते हैं: आर्टिफिशियल इंटेलिजेंस (एआई) हाल के वर्षों में प्रौद्योगिकी में तेजी से प्रगति के साथ एक चर्चा बन गया है।विभिन्न उद्योगों पर इसका प्रभाव अभूतपूर्व रहा है।एआई में हमारे जीने और काम करने के तरीके में क्रांति लाने की क्षमता है।सेल्फ-ड्राइविंग कारों से लेकर वर्चुअल असिस्टेंट तक, एआई के एप्लिकेशन विशाल और व्यापक हैं।हालांकि, इसकी व्यापक गोद लेने के आसपास चिंताएं और संदेह भी हैं।कुछ लोग नौकरी के नुकसान के बारे में चिंता करते हैं क्योंकि एआई और रोबोट मानवीय कार्यों को संभालते हैं, जबकि अन्य एआई के नैतिक निहितार्थों के बारे में चिंतित हैं, विशेष रूप से गोपनीयता और डेटा सुरक्षा जैसे क्षेत्रों में।हेल्थकेयर में एआई की क्षमता बहुत अधिक है।एआई एप्लिकेशन, जैसे निदान और छवि मान्यता, डॉक्टरों को अधिक सटीक निर्णय लेने और रोगी परिणामों में सुधार करने में मदद कर सकते हैं।AI उन रुझानों और पैटर्न की पहचान करने के लिए बड़ी मात्रा में चिकित्सा डेटा का विश्लेषण कर सकता है जो मनुष्यों को याद कर सकते हैं।इससे पहले रोगों और अधिक प्रभावी उपचारों का पता चल सकता है।हालांकि, चिकित्सा क्षेत्र में एआई को लागू करने में चुनौतियां हैं।डेटा गोपनीयता, नियामक अनुपालन, और एआई एल्गोरिदम पर भरोसा करने के लिए चिकित्सकों को प्राप्त करने जैसे मुद्दे कुछ बाधाएं हैं जिन्हें संबोधित करने की आवश्यकता है।शैक्षिक क्षेत्र में, एआई में छात्रों को सीखने और जानकारी के साथ बातचीत करने के तरीके को बदलने की क्षमता है।Aipowered Edutech से लैस स्मार्ट क्लासरूम व्यक्तिगत सीखने की शैलियों के अनुकूल हो सकते हैं, जो अनुकूलित पाठ और प्रथाएं प्रदान करते हैं।एआई चैटबॉट्स और ट्यूटोरियल सिस्टम छात्रों को वास्तविक समय सहायता प्रदान करते हैं, और ग्रेडिंग पेपर को स्वचालित मूल्यांकन के साथ सरल किया जा सकता है।एआई के साथ, अनुसंधान और डेटा संग्रह की प्रक्रिया को तेज किया जा सकता है, जिससे विद्वानों के लिए जानकारी का उपयोग करना आसान हो जाता है।बहरहाल, शिक्षा में एआई को एकीकृत करने के लिए बुनियादी ढांचे और शिक्षक प्रशिक्षण में महत्वपूर्ण निवेश की आवश्यकता होती है।सभी छात्रों को एआई प्रगति से लाभान्वित करने के लिए पहुंच और इक्विटी के मुद्दों को संबोधित करना महत्वपूर्ण होगा\n"
          ]
        }
      ]
    },
    {
      "cell_type": "code",
      "source": [],
      "metadata": {
        "id": "zsgG8sXYg-U_"
      },
      "execution_count": null,
      "outputs": []
    }
  ]
}